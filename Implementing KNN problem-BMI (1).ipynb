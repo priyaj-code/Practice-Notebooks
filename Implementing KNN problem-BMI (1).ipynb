{
 "cells": [
  {
   "cell_type": "code",
   "execution_count": 3,
   "id": "confident-finding",
   "metadata": {},
   "outputs": [],
   "source": [
    "import pandas as pd\n",
    "import matplotlib.pyplot as plt\n",
    "from sklearn.neighbors import KNeighborsClassifier\n",
    "from sklearn.model_selection import train_test_split"
   ]
  },
  {
   "cell_type": "code",
   "execution_count": 4,
   "id": "christian-championship",
   "metadata": {},
   "outputs": [],
   "source": [
    "data=pd.read_csv('C:/Users/User/Downloads/Telegram Desktop/bmi_and_life.csv')"
   ]
  },
  {
   "cell_type": "code",
   "execution_count": 5,
   "id": "indoor-debate",
   "metadata": {},
   "outputs": [
    {
     "data": {
      "text/html": [
       "<div>\n",
       "<style scoped>\n",
       "    .dataframe tbody tr th:only-of-type {\n",
       "        vertical-align: middle;\n",
       "    }\n",
       "\n",
       "    .dataframe tbody tr th {\n",
       "        vertical-align: top;\n",
       "    }\n",
       "\n",
       "    .dataframe thead th {\n",
       "        text-align: right;\n",
       "    }\n",
       "</style>\n",
       "<table border=\"1\" class=\"dataframe\">\n",
       "  <thead>\n",
       "    <tr style=\"text-align: right;\">\n",
       "      <th></th>\n",
       "      <th>Country</th>\n",
       "      <th>Life expectancy</th>\n",
       "      <th>BMI</th>\n",
       "    </tr>\n",
       "  </thead>\n",
       "  <tbody>\n",
       "    <tr>\n",
       "      <th>0</th>\n",
       "      <td>Afghanistan</td>\n",
       "      <td>52.8</td>\n",
       "      <td>20.62058</td>\n",
       "    </tr>\n",
       "    <tr>\n",
       "      <th>1</th>\n",
       "      <td>Albania</td>\n",
       "      <td>76.8</td>\n",
       "      <td>26.44657</td>\n",
       "    </tr>\n",
       "    <tr>\n",
       "      <th>2</th>\n",
       "      <td>Algeria</td>\n",
       "      <td>75.5</td>\n",
       "      <td>24.59620</td>\n",
       "    </tr>\n",
       "    <tr>\n",
       "      <th>3</th>\n",
       "      <td>Andorra</td>\n",
       "      <td>84.6</td>\n",
       "      <td>27.63048</td>\n",
       "    </tr>\n",
       "    <tr>\n",
       "      <th>4</th>\n",
       "      <td>Angola</td>\n",
       "      <td>56.7</td>\n",
       "      <td>22.25083</td>\n",
       "    </tr>\n",
       "  </tbody>\n",
       "</table>\n",
       "</div>"
      ],
      "text/plain": [
       "       Country  Life expectancy       BMI\n",
       "0  Afghanistan             52.8  20.62058\n",
       "1      Albania             76.8  26.44657\n",
       "2      Algeria             75.5  24.59620\n",
       "3      Andorra             84.6  27.63048\n",
       "4       Angola             56.7  22.25083"
      ]
     },
     "execution_count": 5,
     "metadata": {},
     "output_type": "execute_result"
    }
   ],
   "source": [
    "data.head(5)"
   ]
  },
  {
   "cell_type": "code",
   "execution_count": 6,
   "id": "paperback-investing",
   "metadata": {},
   "outputs": [
    {
     "data": {
      "text/plain": [
       "(163, 3)"
      ]
     },
     "execution_count": 6,
     "metadata": {},
     "output_type": "execute_result"
    }
   ],
   "source": [
    "data.shape"
   ]
  },
  {
   "cell_type": "code",
   "execution_count": 8,
   "id": "million-sussex",
   "metadata": {},
   "outputs": [
    {
     "name": "stdout",
     "output_type": "stream",
     "text": [
      "     Life expectancy       BMI\n",
      "0               52.8  20.62058\n",
      "1               76.8  26.44657\n",
      "2               75.5  24.59620\n",
      "3               84.6  27.63048\n",
      "4               56.7  22.25083\n",
      "..               ...       ...\n",
      "158             63.4  26.78926\n",
      "159             74.1  26.57750\n",
      "160             74.1  20.91630\n",
      "161             51.1  20.68321\n",
      "162             47.3  22.02660\n",
      "\n",
      "[163 rows x 2 columns]\n"
     ]
    }
   ],
   "source": [
    "x=data.iloc[:,1:3]\n",
    "print(x)"
   ]
  },
  {
   "cell_type": "code",
   "execution_count": 9,
   "id": "cognitive-medication",
   "metadata": {},
   "outputs": [
    {
     "name": "stdout",
     "output_type": "stream",
     "text": [
      "0             Afghanistan\n",
      "1                 Albania\n",
      "2                 Algeria\n",
      "3                 Andorra\n",
      "4                  Angola\n",
      "              ...        \n",
      "158               Vanuatu\n",
      "159    West Bank and Gaza\n",
      "160               Vietnam\n",
      "161                Zambia\n",
      "162              Zimbabwe\n",
      "Name: Country, Length: 163, dtype: object\n"
     ]
    }
   ],
   "source": [
    "y=data.iloc[:,0]\n",
    "print(y)"
   ]
  },
  {
   "cell_type": "code",
   "execution_count": null,
   "id": "ceramic-disabled",
   "metadata": {},
   "outputs": [],
   "source": []
  },
  {
   "cell_type": "code",
   "execution_count": null,
   "id": "convenient-publication",
   "metadata": {},
   "outputs": [],
   "source": []
  },
  {
   "cell_type": "code",
   "execution_count": 10,
   "id": "western-venue",
   "metadata": {},
   "outputs": [],
   "source": [
    "x_train, x_test, y_train, y_test=train_test_split(x,y, test_size=0.2, random_state=12)"
   ]
  },
  {
   "cell_type": "code",
   "execution_count": 12,
   "id": "wound-title",
   "metadata": {},
   "outputs": [],
   "source": [
    "Kn=KNeighborsClassifier(n_neighbors=5)"
   ]
  },
  {
   "cell_type": "code",
   "execution_count": 13,
   "id": "dominant-tumor",
   "metadata": {},
   "outputs": [
    {
     "data": {
      "text/plain": [
       "KNeighborsClassifier()"
      ]
     },
     "execution_count": 13,
     "metadata": {},
     "output_type": "execute_result"
    }
   ],
   "source": [
    "Kn.fit(x_train,y_train)"
   ]
  },
  {
   "cell_type": "code",
   "execution_count": 20,
   "id": "younger-williams",
   "metadata": {},
   "outputs": [
    {
     "name": "stdout",
     "output_type": "stream",
     "text": [
      "['Brazil' 'Benin' 'Brazil' 'Azerbaijan' 'Canada' 'Fiji' 'Belgium'\n",
      " 'Bahamas' 'Azerbaijan' 'Montenegro' 'Ecuador' 'Croatia' 'Greece'\n",
      " 'Bosnia and Herzegovina' 'Djibouti' 'Bosnia and Herzegovina' 'Canada'\n",
      " 'Bosnia and Herzegovina' 'Belgium' 'Costa Rica' 'China' 'Gambia' 'Gambia'\n",
      " 'Cape Verde' 'Brazil' 'El Salvador' 'Brazil' 'Fiji' 'Benin' 'Angola'\n",
      " 'Angola' 'Brazil' 'Lesotho']\n"
     ]
    }
   ],
   "source": [
    "y_predict=Kn.predict(x_test)\n",
    "print(y_predict)"
   ]
  },
  {
   "cell_type": "code",
   "execution_count": null,
   "id": "opposite-national",
   "metadata": {},
   "outputs": [],
   "source": []
  },
  {
   "cell_type": "code",
   "execution_count": 21,
   "id": "eligible-freedom",
   "metadata": {},
   "outputs": [],
   "source": [
    "from sklearn.metrics import confusion_matrix\n",
    "from sklearn.metrics import classification_report\n",
    "from sklearn.metrics import accuracy_score"
   ]
  },
  {
   "cell_type": "code",
   "execution_count": null,
   "id": "charged-wages",
   "metadata": {},
   "outputs": [],
   "source": []
  },
  {
   "cell_type": "code",
   "execution_count": 16,
   "id": "expensive-platform",
   "metadata": {},
   "outputs": [
    {
     "name": "stdout",
     "output_type": "stream",
     "text": [
      "                        precision    recall  f1-score   support\n",
      "\n",
      "               Albania       0.00      0.00      0.00       1.0\n",
      "                Angola       0.00      0.00      0.00       0.0\n",
      "               Armenia       0.00      0.00      0.00       1.0\n",
      "             Australia       0.00      0.00      0.00       1.0\n",
      "               Austria       0.00      0.00      0.00       1.0\n",
      "            Azerbaijan       0.00      0.00      0.00       0.0\n",
      "               Bahamas       0.00      0.00      0.00       0.0\n",
      "              Barbados       0.00      0.00      0.00       1.0\n",
      "               Belgium       0.00      0.00      0.00       0.0\n",
      "                 Benin       0.00      0.00      0.00       0.0\n",
      "                Bhutan       0.00      0.00      0.00       1.0\n",
      "Bosnia and Herzegovina       0.00      0.00      0.00       0.0\n",
      "                Brazil       0.00      0.00      0.00       0.0\n",
      "              Bulgaria       0.00      0.00      0.00       1.0\n",
      "               Burundi       0.00      0.00      0.00       1.0\n",
      "                Canada       0.00      0.00      0.00       0.0\n",
      "            Cape Verde       0.00      0.00      0.00       0.0\n",
      "                 China       0.00      0.00      0.00       0.0\n",
      "            Costa Rica       0.00      0.00      0.00       0.0\n",
      "               Croatia       0.00      0.00      0.00       0.0\n",
      "                  Cuba       0.00      0.00      0.00       1.0\n",
      "                Cyprus       0.00      0.00      0.00       1.0\n",
      "               Denmark       0.00      0.00      0.00       1.0\n",
      "              Djibouti       0.00      0.00      0.00       0.0\n",
      "               Ecuador       0.00      0.00      0.00       0.0\n",
      "           El Salvador       0.00      0.00      0.00       0.0\n",
      "               Eritrea       0.00      0.00      0.00       1.0\n",
      "                  Fiji       0.00      0.00      0.00       0.0\n",
      "                France       0.00      0.00      0.00       1.0\n",
      "                Gambia       0.00      0.00      0.00       0.0\n",
      "                Greece       0.00      0.00      0.00       0.0\n",
      "                Guinea       0.00      0.00      0.00       1.0\n",
      "                Guyana       0.00      0.00      0.00       1.0\n",
      "               Hungary       0.00      0.00      0.00       1.0\n",
      "            Kazakhstan       0.00      0.00      0.00       1.0\n",
      "               Lesotho       0.00      0.00      0.00       0.0\n",
      "                 Libya       0.00      0.00      0.00       1.0\n",
      "        Macedonia, FYR       0.00      0.00      0.00       1.0\n",
      "                 Malta       0.00      0.00      0.00       1.0\n",
      "      Marshall Islands       0.00      0.00      0.00       1.0\n",
      "             Mauritius       0.00      0.00      0.00       1.0\n",
      "              Mongolia       0.00      0.00      0.00       1.0\n",
      "            Montenegro       0.00      0.00      0.00       0.0\n",
      "             Nicaragua       0.00      0.00      0.00       1.0\n",
      "               Romania       0.00      0.00      0.00       1.0\n",
      "                Russia       0.00      0.00      0.00       1.0\n",
      "                Rwanda       0.00      0.00      0.00       1.0\n",
      "             Swaziland       0.00      0.00      0.00       1.0\n",
      "              Thailand       0.00      0.00      0.00       1.0\n",
      "                  Togo       0.00      0.00      0.00       1.0\n",
      "   Trinidad and Tobago       0.00      0.00      0.00       1.0\n",
      "               Vanuatu       0.00      0.00      0.00       1.0\n",
      "    West Bank and Gaza       0.00      0.00      0.00       1.0\n",
      "\n",
      "              accuracy                           0.00      33.0\n",
      "             macro avg       0.00      0.00      0.00      33.0\n",
      "          weighted avg       0.00      0.00      0.00      33.0\n",
      "\n"
     ]
    },
    {
     "name": "stderr",
     "output_type": "stream",
     "text": [
      "C:\\Users\\User\\AppData\\Roaming\\Python\\Python37\\site-packages\\sklearn\\metrics\\_classification.py:1245: UndefinedMetricWarning: Precision and F-score are ill-defined and being set to 0.0 in labels with no predicted samples. Use `zero_division` parameter to control this behavior.\n",
      "  _warn_prf(average, modifier, msg_start, len(result))\n",
      "C:\\Users\\User\\AppData\\Roaming\\Python\\Python37\\site-packages\\sklearn\\metrics\\_classification.py:1245: UndefinedMetricWarning: Recall and F-score are ill-defined and being set to 0.0 in labels with no true samples. Use `zero_division` parameter to control this behavior.\n",
      "  _warn_prf(average, modifier, msg_start, len(result))\n",
      "C:\\Users\\User\\AppData\\Roaming\\Python\\Python37\\site-packages\\sklearn\\metrics\\_classification.py:1245: UndefinedMetricWarning: Precision and F-score are ill-defined and being set to 0.0 in labels with no predicted samples. Use `zero_division` parameter to control this behavior.\n",
      "  _warn_prf(average, modifier, msg_start, len(result))\n",
      "C:\\Users\\User\\AppData\\Roaming\\Python\\Python37\\site-packages\\sklearn\\metrics\\_classification.py:1245: UndefinedMetricWarning: Recall and F-score are ill-defined and being set to 0.0 in labels with no true samples. Use `zero_division` parameter to control this behavior.\n",
      "  _warn_prf(average, modifier, msg_start, len(result))\n",
      "C:\\Users\\User\\AppData\\Roaming\\Python\\Python37\\site-packages\\sklearn\\metrics\\_classification.py:1245: UndefinedMetricWarning: Precision and F-score are ill-defined and being set to 0.0 in labels with no predicted samples. Use `zero_division` parameter to control this behavior.\n",
      "  _warn_prf(average, modifier, msg_start, len(result))\n",
      "C:\\Users\\User\\AppData\\Roaming\\Python\\Python37\\site-packages\\sklearn\\metrics\\_classification.py:1245: UndefinedMetricWarning: Recall and F-score are ill-defined and being set to 0.0 in labels with no true samples. Use `zero_division` parameter to control this behavior.\n",
      "  _warn_prf(average, modifier, msg_start, len(result))\n"
     ]
    }
   ],
   "source": [
    "print(classification_report(y_test,y_predict))"
   ]
  },
  {
   "cell_type": "code",
   "execution_count": 34,
   "id": "earlier-provincial",
   "metadata": {},
   "outputs": [
    {
     "name": "stdout",
     "output_type": "stream",
     "text": [
      "[[0 0 0 ... 0 0 0]\n",
      " [0 0 1 ... 0 0 0]\n",
      " [0 0 0 ... 0 0 0]\n",
      " ...\n",
      " [0 0 0 ... 0 0 0]\n",
      " [0 0 0 ... 0 0 0]\n",
      " [0 0 0 ... 0 0 0]]\n"
     ]
    }
   ],
   "source": [
    "print(confusion_matrix(y_test,y_predict))"
   ]
  },
  {
   "cell_type": "code",
   "execution_count": 23,
   "id": "improved-profile",
   "metadata": {},
   "outputs": [
    {
     "name": "stdout",
     "output_type": "stream",
     "text": [
      "0.0\n"
     ]
    }
   ],
   "source": [
    "print(accuracy_score(y_test,y_predict))"
   ]
  },
  {
   "cell_type": "code",
   "execution_count": 25,
   "id": "first-weather",
   "metadata": {},
   "outputs": [
    {
     "data": {
      "text/plain": [
       "33"
      ]
     },
     "execution_count": 25,
     "metadata": {},
     "output_type": "execute_result"
    }
   ],
   "source": [
    "len(y_test)"
   ]
  },
  {
   "cell_type": "code",
   "execution_count": 26,
   "id": "preliminary-witness",
   "metadata": {},
   "outputs": [
    {
     "data": {
      "text/plain": [
       "33"
      ]
     },
     "execution_count": 26,
     "metadata": {},
     "output_type": "execute_result"
    }
   ],
   "source": [
    "len(y_predict)"
   ]
  },
  {
   "cell_type": "code",
   "execution_count": null,
   "id": "assigned-consequence",
   "metadata": {},
   "outputs": [],
   "source": []
  },
  {
   "cell_type": "code",
   "execution_count": null,
   "id": "equipped-sacrifice",
   "metadata": {},
   "outputs": [],
   "source": []
  },
  {
   "cell_type": "code",
   "execution_count": null,
   "id": "funky-blocking",
   "metadata": {},
   "outputs": [],
   "source": []
  },
  {
   "cell_type": "code",
   "execution_count": null,
   "id": "sixth-bedroom",
   "metadata": {},
   "outputs": [],
   "source": []
  },
  {
   "cell_type": "code",
   "execution_count": null,
   "id": "surface-spotlight",
   "metadata": {},
   "outputs": [],
   "source": []
  },
  {
   "cell_type": "code",
   "execution_count": null,
   "id": "constitutional-spring",
   "metadata": {},
   "outputs": [],
   "source": []
  },
  {
   "cell_type": "code",
   "execution_count": null,
   "id": "lonely-chick",
   "metadata": {},
   "outputs": [],
   "source": []
  }
 ],
 "metadata": {
  "kernelspec": {
   "display_name": "Python 3",
   "language": "python",
   "name": "python3"
  },
  "language_info": {
   "codemirror_mode": {
    "name": "ipython",
    "version": 3
   },
   "file_extension": ".py",
   "mimetype": "text/x-python",
   "name": "python",
   "nbconvert_exporter": "python",
   "pygments_lexer": "ipython3",
   "version": "3.7.9"
  }
 },
 "nbformat": 4,
 "nbformat_minor": 5
}
